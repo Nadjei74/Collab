{
  "nbformat": 4,
  "nbformat_minor": 0,
  "metadata": {
    "colab": {
      "provenance": [],
      "authorship_tag": "ABX9TyOoYabhNI01DiMi3Z2M2qr7",
      "include_colab_link": true
    },
    "kernelspec": {
      "name": "python3",
      "display_name": "Python 3"
    },
    "language_info": {
      "name": "python"
    }
  },
  "cells": [
    {
      "cell_type": "markdown",
      "metadata": {
        "id": "view-in-github",
        "colab_type": "text"
      },
      "source": [
        "<a href=\"https://colab.research.google.com/github/Nadjei74/Collab/blob/main/GA2ipynb.ipynb\" target=\"_parent\"><img src=\"https://colab.research.google.com/assets/colab-badge.svg\" alt=\"Open In Colab\"/></a>"
      ]
    },
    {
      "cell_type": "code",
      "execution_count": null,
      "metadata": {
        "id": "l4zL5B9kNE0-"
      },
      "outputs": [],
      "source": [
        "import random\n",
        "import math\n",
        "from numpy.random import randint\n",
        "\n"
      ]
    },
    {
      "cell_type": "code",
      "source": [
        "# Objective Function\n",
        "def objective(x):\n",
        "    return sum(x)\n",
        "\n"
      ],
      "metadata": {
        "id": "P3_AKTzxQLW3"
      },
      "execution_count": null,
      "outputs": []
    },
    {
      "cell_type": "code",
      "source": [
        "# Decode continuous values\n",
        "def decode_cont(bounds_cont, n_bits_cont, bitstring):\n",
        "    decoded_cont = []\n",
        "    largest = 2 ** n_bits_cont\n",
        "    for i in range(len(bounds_cont)):\n",
        "        start, end = i * n_bits_cont, (i + 1) * n_bits_cont\n",
        "        substring = bitstring[start:end]\n",
        "        chars = ''.join([str(s) for s in substring])\n",
        "        integer = int(chars, 2)\n",
        "        value = bounds_cont[i][0] + (integer / largest) * (bounds_cont[i][1] - bounds_cont[i][0])\n",
        "        decoded_cont.append(value)\n",
        "    return decoded_cont\n",
        "\n",
        "\n"
      ],
      "metadata": {
        "id": "_Hvny_wFNTq3"
      },
      "execution_count": null,
      "outputs": []
    },
    {
      "cell_type": "code",
      "source": [
        "# Decode discrete values\n",
        "def decode_discrete(bounds_discret, n_bits_discret, bitstring):\n",
        "    decoded_discrete = []\n",
        "    for i in range(bounds_discret):\n",
        "        start, end = i * n_bits_discret, (i + 1) * n_bits_discret\n",
        "        substring = bitstring[start:end]\n",
        "        chars = ''.join([str(s) for s in substring])\n",
        "        value = int(chars, 2)  # Assuming discrete values are integer representations\n",
        "        decoded_discrete.append(value)\n",
        "    return decoded_discrete\n",
        "\n"
      ],
      "metadata": {
        "id": "whq33tOrPy9q"
      },
      "execution_count": null,
      "outputs": []
    },
    {
      "cell_type": "code",
      "source": [
        "# Tournament Selection\n",
        "def selection(pop, scores, k=3):\n",
        "    selection_ix = randint(len(pop))\n",
        "    for ix in randint(0, len(pop), k - 1):\n",
        "        if scores[ix] < scores[selection_ix]:\n",
        "            selection_ix = ix\n",
        "    return pop[selection_ix]\n",
        "\n"
      ],
      "metadata": {
        "id": "HK-ogT96P3Ho"
      },
      "execution_count": null,
      "outputs": []
    },
    {
      "cell_type": "code",
      "source": [
        "# Crossover\n",
        "def crossover(p1, p2, r_cross):\n",
        "    c1, c2 = p1.copy(), p2.copy()\n",
        "    if random.random() < r_cross:\n",
        "        pt = randint(1, len(p1) - 2)\n",
        "        c1 = p1[:pt] + p2[pt:]\n",
        "        c2 = p2[:pt] + p1[pt:]\n",
        "    return [c1, c2]\n",
        "\n"
      ],
      "metadata": {
        "id": "qGwMhoouP6r4"
      },
      "execution_count": null,
      "outputs": []
    },
    {
      "cell_type": "code",
      "source": [
        "# Mutation\n",
        "def mutation(bitstring, r_mut):\n",
        "    for i in range(len(bitstring)):\n",
        "        if random.random() < r_mut:\n",
        "            bitstring[i] = 1 - bitstring[i]\n",
        "    return bitstring\n",
        "\n"
      ],
      "metadata": {
        "id": "1OtW0haNP-QA"
      },
      "execution_count": null,
      "outputs": []
    },
    {
      "cell_type": "code",
      "source": [
        "# Genetic Algorithm\n",
        "def genetic_algorithm(objective, bounds_cont, n_bits_cont, bounds_discret, n_bits_discret, n_iter, n_pop, r_cross, r_mut):\n",
        "    # Initialize population\n",
        "    pop = [\n",
        "        randint(0, 2, n_bits_cont * len(bounds_cont)).tolist() +\n",
        "        randint(0, 2, n_bits_discret * bounds_discret).tolist()\n",
        "        for _ in range(n_pop)\n",
        "    ]\n",
        "\n",
        "    # Decode first population and evaluate\n",
        "    best, best_eval = 0, float('inf')\n",
        "    for gen in range(n_iter):\n",
        "        decoded = [\n",
        "            decode_cont(bounds_cont, n_bits_cont, p[:n_bits_cont * len(bounds_cont)]) +\n",
        "            decode_discrete(bounds_discret, n_bits_discret, p[n_bits_cont * len(bounds_cont):])\n",
        "            for p in pop\n",
        "        ]\n",
        "        scores = [objective(d) for d in decoded]\n",
        "        for i in range(n_pop):\n",
        "            if scores[i] < best_eval:\n",
        "                best, best_eval = pop[i], scores[i]\n",
        "                print(f\">Gen {gen}, new best f({decoded[i]}) = {scores[i]}\")\n",
        "\n",
        "        # Select parents\n",
        "        selected = [selection(pop, scores) for _ in range(n_pop)]\n",
        "\n",
        "        # Generate the next generation\n",
        "        children = []\n",
        "        for i in range(0, n_pop, 2):\n",
        "            p1, p2 = selected[i], selected[i + 1]\n",
        "            for c in crossover(p1, p2, r_cross):# produces two childeren\n",
        "                mutation(c, r_mut)# we need to check here if the child is valid\n",
        "                children.append(c)\n",
        "\n",
        "        pop = children  # Replace the population\n",
        "\n",
        "    return best, best_eval\n",
        "\n"
      ],
      "metadata": {
        "id": "wYWPhQ_IQBI4"
      },
      "execution_count": null,
      "outputs": []
    },
    {
      "cell_type": "code",
      "source": [
        "# Parameters\n",
        "n_bits_cont = 6  # Bits per continuous variable\n",
        "n_bits_discret = 3  # Bits per discrete variable\n",
        "bounds_cont = [(0.0, 10.0)] * 7  # Continuous variable bounds\n",
        "bounds_discret = 8  # Number of discrete variables\n",
        "n_iter = 10  # Number of generations\n",
        "n_pop = 20  # Population size\n",
        "r_cross = 0.9  # Crossover rate\n",
        "r_mut = 0.1  # Mutation rate\n",
        "\n",
        "# Run the Genetic Algorithm\n",
        "best, best_eval = genetic_algorithm(\n",
        "    objective, bounds_cont, n_bits_cont, bounds_discret, n_bits_discret,\n",
        "    n_iter, n_pop, r_cross, r_mut\n",
        ")\n",
        "print(f\"Best Solution: {best}, Best Objective: {best_eval}\")"
      ],
      "metadata": {
        "colab": {
          "base_uri": "https://localhost:8080/"
        },
        "id": "pxhmR8gUQE2X",
        "outputId": "b6c6b339-7101-4c6c-ef8f-ef6eee6f53b6"
      },
      "execution_count": null,
      "outputs": [
        {
          "output_type": "stream",
          "name": "stdout",
          "text": [
            ">Gen 0, new best f([5.0, 6.25, 7.5, 6.25, 8.75, 6.25, 5.0, 2, 4, 0, 0, 1, 6, 4, 7]) = 69.0\n",
            ">Gen 0, new best f([2.5, 1.25, 8.75, 0.0, 6.25, 3.75, 5.0, 1, 0, 1, 0, 1, 0, 1, 7]) = 38.5\n",
            ">Gen 0, new best f([0.0, 0.0, 0.0, 7.5, 1.25, 1.25, 6.25, 4, 2, 1, 1, 4, 1, 6, 0]) = 35.25\n",
            ">Gen 1, new best f([5.0, 0.0, 0.0, 2.5, 7.5, 3.75, 3.75, 0, 2, 2, 0, 1, 0, 0, 3]) = 30.5\n",
            ">Gen 3, new best f([1.25, 1.25, 2.5, 0.0, 1.25, 3.75, 1.25, 4, 2, 1, 6, 1, 0, 0, 2]) = 27.25\n",
            ">Gen 5, new best f([0.0, 1.25, 2.5, 0.0, 1.25, 2.5, 1.25, 4, 1, 1, 0, 0, 4, 2, 6]) = 26.75\n",
            ">Gen 5, new best f([1.25, 1.25, 0.0, 0.0, 1.25, 1.25, 1.25, 4, 2, 1, 6, 1, 1, 3, 2]) = 26.25\n",
            ">Gen 7, new best f([1.25, 1.25, 1.25, 0.0, 1.25, 3.75, 1.25, 2, 2, 3, 4, 1, 0, 1, 2]) = 25.0\n",
            "Best Solution: [0, 0, 1, 0, 0, 1, 0, 0, 1, 0, 0, 0, 0, 0, 1, 0, 1, 1, 0, 0, 1, 0, 1, 0, 0, 1, 0, 0, 1, 1, 1, 0, 0, 0, 0, 1, 0, 0, 0, 0, 0, 1, 0, 1, 0], Best Objective: 25.0\n"
          ]
        }
      ]
    },
    {
      "cell_type": "code",
      "source": [
        "def decode_discrete(bounds_discrete, n_bits_discrete, bitstring):\n",
        "    decoded_discrete = []\n",
        "    start = 0  # Initialize the starting index\n",
        "\n",
        "    for i in range(bounds_discrete):\n",
        "        # Get the number of bits for the current step\n",
        "        n_bits = n_bits_discrete[i]\n",
        "        end = start + n_bits  # Calculate the end index for slicing\n",
        "\n",
        "        # Extract the substring corresponding to the current discrete value\n",
        "        substring = bitstring[start:end]\n",
        "        chars = ''.join([str(s) for s in substring])  # Convert bits to string\n",
        "        value = int(chars, 2)  # Convert binary string to integer\n",
        "        decoded_discrete.append(value)\n",
        "\n",
        "        # Update the start position for the next iteration\n",
        "        start = end\n",
        "\n",
        "    return decoded_discrete\n"
      ],
      "metadata": {
        "id": "Sno6FzmbJBw1"
      },
      "execution_count": null,
      "outputs": []
    },
    {
      "cell_type": "code",
      "source": [
        "# Example inputs\n",
        "bounds_discrete = 6\n",
        "n_bits_discrete = [2, 3, 2, 3, 3,2]\n",
        "bitstring = \"110101100110101\"\n",
        "\n",
        "# Decode the bitstring\n",
        "decoded_values = decode_discrete(bounds_discrete, n_bits_discrete, bitstring)\n",
        "print(decoded_values)\n"
      ],
      "metadata": {
        "colab": {
          "base_uri": "https://localhost:8080/"
        },
        "id": "9ZAZrfUFJEPz",
        "outputId": "bf112377-9c24-44fe-8bb5-be93c22791ee"
      },
      "execution_count": null,
      "outputs": [
        {
          "output_type": "stream",
          "name": "stdout",
          "text": [
            "[3, 2, 3, 1, 5, 1]\n"
          ]
        }
      ]
    }
  ]
}